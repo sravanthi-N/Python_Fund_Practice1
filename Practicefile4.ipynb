#!/usr/bin/env python
# coding: utf-8

# In[1]:


num=[10,20,30,40,50,60,70,80,90]
print(num[-1::-2])


# In[3]:


print(num[1:6:2])


# In[6]:


print(num[-5::1])


# In[8]:


print(num[:-8:-1])


# In[11]:


#using sort()
names=['Abdul','Charan','Bhaskar','Eswar','Edwin','Dharwin']
names


# In[12]:


names.sort()
print(names)


# 

# In[16]:


names_2=['Abdul','Charan','Bhaskar','Eswar','Edwin','Dharwin']
names_2


# In[17]:


print(sorted(names_2))


# In[18]:


names_2


# In[19]:


len(names_2)


# In[20]:


names.sort(reverse=True) # using reverse method 


# In[21]:


names


# In[31]:


#looping-For loop
for name in names:
    print(f"All The Best: {name.title()}")


# In[ ]:




