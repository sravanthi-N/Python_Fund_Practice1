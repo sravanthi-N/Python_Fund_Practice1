{
 "cells": [
  {
   "cell_type": "code",
   "execution_count": 26,
   "metadata": {},
   "outputs": [
    {
     "name": "stdout",
     "output_type": "stream",
     "text": [
      "Please enter your Name : sravanthi\n",
      "Please enter your age: kjk\n",
      "\n",
      "Hi Sravanthi....Please enter your age in numbers:\n",
      "Please enter your age: 17\n",
      "\n",
      "Hi Sravanthi...Please try next year.\n"
     ]
    }
   ],
   "source": [
    "\"\"\" Practice the concept of accepting user input\n",
    "and using IF Else to validating the user input\n",
    "\n",
    "Building a simple voting app\"\"\"\n",
    "\n",
    "Name=input('Please enter your Name : ')\n",
    "age=input('Please enter your age: ')\n",
    "\n",
    "if age.isnumeric()== False : \n",
    "    \n",
    "    ''' Validating the input for age '''\n",
    "    \n",
    "    print (f\"\\nHi {Name.title()}....Please enter your age in numbers:\")\n",
    "    \n",
    "    age=input('Please enter your age: ')\n",
    "          \n",
    "if int(age)>=18:\n",
    "           \n",
    "           print(f\"\\nHi {Name.title()}....You are eligible for voting.\")\n",
    "                 \n",
    "else:\n",
    "           print(f\"\\nHi {Name.title()}...Please try next year.\")\n",
    "           \n",
    "\n"
   ]
  },
  {
   "cell_type": "code",
   "execution_count": 16,
   "metadata": {},
   "outputs": [
    {
     "name": "stdout",
     "output_type": "stream",
     "text": [
      "True\n"
     ]
    }
   ],
   "source": [
    "a='123'\n",
    "print(a.isnumeric())\n",
    "#rint(a)"
   ]
  },
  {
   "cell_type": "code",
   "execution_count": null,
   "metadata": {},
   "outputs": [],
   "source": []
  }
 ],
 "metadata": {
  "kernelspec": {
   "display_name": "Python 3",
   "language": "python",
   "name": "python3"
  },
  "language_info": {
   "codemirror_mode": {
    "name": "ipython",
    "version": 3
   },
   "file_extension": ".py",
   "mimetype": "text/x-python",
   "name": "python",
   "nbconvert_exporter": "python",
   "pygments_lexer": "ipython3",
   "version": "3.7.4"
  }
 },
 "nbformat": 4,
 "nbformat_minor": 2
}
