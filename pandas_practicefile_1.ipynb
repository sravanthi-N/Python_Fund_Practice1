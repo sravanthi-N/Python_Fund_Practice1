{
 "cells": [
  {
   "cell_type": "code",
   "execution_count": 10,
   "metadata": {},
   "outputs": [
    {
     "name": "stdout",
     "output_type": "stream",
     "text": [
      "[0.6106284  0.03783981 0.33012311 0.31576773 0.81314096 0.07401432\n",
      " 0.8299021 ]\n"
     ]
    }
   ],
   "source": [
    "import numpy as np\n",
    "import pandas as pd\n",
    "\n",
    "a=np.random.rand(7)\n",
    "print(a)\n",
    "\n"
   ]
  },
  {
   "cell_type": "code",
   "execution_count": 7,
   "metadata": {},
   "outputs": [
    {
     "data": {
      "text/plain": [
       "numpy.ndarray"
      ]
     },
     "execution_count": 7,
     "metadata": {},
     "output_type": "execute_result"
    }
   ],
   "source": [
    "type(a)"
   ]
  },
  {
   "cell_type": "code",
   "execution_count": 11,
   "metadata": {},
   "outputs": [
    {
     "name": "stdout",
     "output_type": "stream",
     "text": [
      "0    0.610628\n",
      "1    0.037840\n",
      "2    0.330123\n",
      "3    0.315768\n",
      "4    0.813141\n",
      "5    0.074014\n",
      "6    0.829902\n",
      "dtype: float64\n"
     ]
    }
   ],
   "source": [
    "a_series=pd.Series(a)\n",
    "\n",
    "print(a_series)"
   ]
  },
  {
   "cell_type": "code",
   "execution_count": 12,
   "metadata": {},
   "outputs": [
    {
     "data": {
      "text/plain": [
       "pandas.core.series.Series"
      ]
     },
     "execution_count": 12,
     "metadata": {},
     "output_type": "execute_result"
    }
   ],
   "source": [
    "type(a_series)"
   ]
  },
  {
   "cell_type": "code",
   "execution_count": 13,
   "metadata": {},
   "outputs": [
    {
     "name": "stdout",
     "output_type": "stream",
     "text": [
      "first      0.610628\n",
      "second     0.037840\n",
      "third      0.330123\n",
      "fourth     0.315768\n",
      "fifth      0.813141\n",
      "sixth      0.074014\n",
      "seventh    0.829902\n",
      "dtype: float64\n"
     ]
    }
   ],
   "source": [
    "#manual indexing\n",
    "\n",
    "a_series=pd.Series(a,index=['first','second','third','fourth','fifth','sixth','seventh'])\n",
    "print(a_series)"
   ]
  },
  {
   "cell_type": "code",
   "execution_count": null,
   "metadata": {},
   "outputs": [],
   "source": []
  }
 ],
 "metadata": {
  "kernelspec": {
   "display_name": "Python 3",
   "language": "python",
   "name": "python3"
  },
  "language_info": {
   "codemirror_mode": {
    "name": "ipython",
    "version": 3
   },
   "file_extension": ".py",
   "mimetype": "text/x-python",
   "name": "python",
   "nbconvert_exporter": "python",
   "pygments_lexer": "ipython3",
   "version": "3.7.4"
  }
 },
 "nbformat": 4,
 "nbformat_minor": 2
}
