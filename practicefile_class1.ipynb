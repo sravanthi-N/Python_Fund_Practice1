{
 "cells": [
  {
   "cell_type": "code",
   "execution_count": 1,
   "metadata": {},
   "outputs": [],
   "source": [
    "#using function with return value\n",
    "\n",
    "def addition(v1,v2):\n",
    "    \n",
    "    \"\"\" Adding of two values .....\"\"\"\n",
    "    \n",
    "    val=v1+v2\n",
    "    \n",
    "    return(val)\n"
   ]
  },
  {
   "cell_type": "code",
   "execution_count": 2,
   "metadata": {},
   "outputs": [
    {
     "data": {
      "text/plain": [
       "30"
      ]
     },
     "execution_count": 2,
     "metadata": {},
     "output_type": "execute_result"
    }
   ],
   "source": [
    "addition(10,20)"
   ]
  },
  {
   "cell_type": "code",
   "execution_count": 3,
   "metadata": {},
   "outputs": [
    {
     "data": {
      "text/plain": [
       "'sravanthi'"
      ]
     },
     "execution_count": 3,
     "metadata": {},
     "output_type": "execute_result"
    }
   ],
   "source": [
    "addition('sra','vanthi')"
   ]
  },
  {
   "cell_type": "code",
   "execution_count": 15,
   "metadata": {},
   "outputs": [],
   "source": [
    "# practice on class concept:\n",
    "\n",
    "class student:\n",
    "     \n",
    "    collage_name=\"Python\"\n",
    "    \n",
    "    def stddetails(self,stdid,stdname):\n",
    "        \n",
    "        \"\"\" Deplying student details:.....\"\"\"\n",
    "        \n",
    "        print(f\"Student Id: {stdid}\")\n",
    "        print(f\"\\nStudent Name: {stdname.title()}\")\n",
    "        print(f\"\\nCollage Name: {self.collage_name}\")\n",
    "\n",
    "        "
   ]
  },
  {
   "cell_type": "code",
   "execution_count": 16,
   "metadata": {},
   "outputs": [],
   "source": [
    "std=student()"
   ]
  },
  {
   "cell_type": "code",
   "execution_count": 17,
   "metadata": {},
   "outputs": [
    {
     "name": "stdout",
     "output_type": "stream",
     "text": [
      "Student Id: 100\n",
      "\n",
      "Student Name: Sravanthi\n",
      "\n",
      "Collage Name: Python\n"
     ]
    }
   ],
   "source": [
    "std.stddetails('100','Sravanthi')"
   ]
  },
  {
   "cell_type": "code",
   "execution_count": 53,
   "metadata": {},
   "outputs": [],
   "source": [
    "#creating class with __init__.....used to intilize the attributes in the class\n",
    "class Employee:\n",
    "    def __init__(self,empid,empname,dept):\n",
    "        \n",
    "        self.empid=empid\n",
    "        self.ename=empname\n",
    "        self.dept=dept\n",
    "    Orgname='python'\n",
    "    \n",
    "    def empdisplay(self):\n",
    "        \n",
    "        print(f\"Emp id:  {self.empid}\")\n",
    "        print(f\"Emp Name:  {self.ename.title()}\")\n",
    "        print(f\"Emp Dept:  {self.dept.upper()}\")\n",
    "        print(f\"Organisation Name:  {self.Orgname.title()}\")\n"
   ]
  },
  {
   "cell_type": "code",
   "execution_count": 54,
   "metadata": {},
   "outputs": [],
   "source": [
    "emp=Employee(100,'sravanthi','IT')"
   ]
  },
  {
   "cell_type": "code",
   "execution_count": 55,
   "metadata": {},
   "outputs": [
    {
     "name": "stdout",
     "output_type": "stream",
     "text": [
      "Emp id:  100\n",
      "Emp Name:  Sravanthi\n",
      "Emp Dept:  IT\n",
      "Organisation Name:  Python\n"
     ]
    }
   ],
   "source": [
    "emp.empdisplay()"
   ]
  },
  {
   "cell_type": "code",
   "execution_count": 22,
   "metadata": {},
   "outputs": [
    {
     "data": {
      "text/plain": [
       "__main__.Employee"
      ]
     },
     "execution_count": 22,
     "metadata": {},
     "output_type": "execute_result"
    }
   ],
   "source": [
    "type(emp)"
   ]
  },
  {
   "cell_type": "code",
   "execution_count": 67,
   "metadata": {},
   "outputs": [],
   "source": [
    "#Inheritence: Inheriting the Employee class to Department class\n",
    "#Overwriting the variable:Orgname in the childclass\n",
    "\n",
    "class Department(Employee):\n",
    "    \n",
    "    Orgname=\"Anaconda\"\n",
    "    \n",
    "    def depdisplay(self):\n",
    "        print(f\"Employee {self.ename.title()} is working in {self.Orgname.title()}\")\n",
    "        "
   ]
  },
  {
   "cell_type": "code",
   "execution_count": 68,
   "metadata": {},
   "outputs": [],
   "source": [
    "depart=Department('101','mahesh','hr')"
   ]
  },
  {
   "cell_type": "code",
   "execution_count": 69,
   "metadata": {},
   "outputs": [
    {
     "name": "stdout",
     "output_type": "stream",
     "text": [
      "Emp id:  101\n",
      "Emp Name:  Mahesh\n",
      "Emp Dept:  HR\n",
      "Organisation Name:  Anaconda\n"
     ]
    }
   ],
   "source": [
    "depart.empdisplay()"
   ]
  },
  {
   "cell_type": "code",
   "execution_count": 70,
   "metadata": {},
   "outputs": [
    {
     "name": "stdout",
     "output_type": "stream",
     "text": [
      "Employee Mahesh is working in Anaconda\n"
     ]
    }
   ],
   "source": [
    "depart.depdisplay()"
   ]
  },
  {
   "cell_type": "code",
   "execution_count": 71,
   "metadata": {},
   "outputs": [],
   "source": [
    "#using inheritence from  mutiple parent classes:\n",
    "class Mom:\n",
    "    \n",
    "    var1=\"hey i am Mom\"\n",
    "class Dad:\n",
    "    var2='hey I am Dad'\n",
    "    \n",
    "class child(Mom,Dad):\n",
    "    var3='hey I am your child'\n",
    "    \n",
    "    \n"
   ]
  },
  {
   "cell_type": "code",
   "execution_count": 72,
   "metadata": {},
   "outputs": [
    {
     "data": {
      "text/plain": [
       "'hey i am Mom'"
      ]
     },
     "execution_count": 72,
     "metadata": {},
     "output_type": "execute_result"
    }
   ],
   "source": [
    "\n",
    "cobj=child()\n",
    "cobj.var1"
   ]
  },
  {
   "cell_type": "code",
   "execution_count": 73,
   "metadata": {},
   "outputs": [
    {
     "data": {
      "text/plain": [
       "'hey I am Dad'"
      ]
     },
     "execution_count": 73,
     "metadata": {},
     "output_type": "execute_result"
    }
   ],
   "source": [
    "cobj.var2"
   ]
  },
  {
   "cell_type": "code",
   "execution_count": 74,
   "metadata": {},
   "outputs": [
    {
     "data": {
      "text/plain": [
       "'hey I am your child'"
      ]
     },
     "execution_count": 74,
     "metadata": {},
     "output_type": "execute_result"
    }
   ],
   "source": [
    "cobj.var3"
   ]
  },
  {
   "cell_type": "code",
   "execution_count": null,
   "metadata": {},
   "outputs": [],
   "source": []
  }
 ],
 "metadata": {
  "kernelspec": {
   "display_name": "Python 3",
   "language": "python",
   "name": "python3"
  },
  "language_info": {
   "codemirror_mode": {
    "name": "ipython",
    "version": 3
   },
   "file_extension": ".py",
   "mimetype": "text/x-python",
   "name": "python",
   "nbconvert_exporter": "python",
   "pygments_lexer": "ipython3",
   "version": "3.7.4"
  }
 },
 "nbformat": 4,
 "nbformat_minor": 2
}
